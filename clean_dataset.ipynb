{
 "cells": [
  {
   "cell_type": "markdown",
   "id": "74ac22e6",
   "metadata": {},
   "source": [
    "# Imports"
   ]
  },
  {
   "cell_type": "code",
   "execution_count": 1,
   "id": "8744b51d",
   "metadata": {},
   "outputs": [],
   "source": [
    "import pandas as pd\n",
    "import numpy as np"
   ]
  },
  {
   "cell_type": "markdown",
   "id": "2ceb8e32",
   "metadata": {},
   "source": [
    "# Load and Display"
   ]
  },
  {
   "cell_type": "code",
   "execution_count": 2,
   "id": "ed12811c",
   "metadata": {},
   "outputs": [
    {
     "name": "stderr",
     "output_type": "stream",
     "text": [
      "C:\\Users\\fathi\\AppData\\Local\\Temp\\ipykernel_9708\\3349051028.py:2: DtypeWarning: Columns (7,12,29,30,33,35,37,38,40,42,43,44,46,47,48,49,50,52,53) have mixed types. Specify dtype option on import or set low_memory=False.\n",
      "  data = pd.read_csv('Playstore_final.csv')\n"
     ]
    },
    {
     "name": "stdout",
     "output_type": "stream",
     "text": [
      "Initial Data:\n",
      "                  App Name                                             App Id  \\\n",
      "0     Logistics Management              com.eniseistudio.logistics_management   \n",
      "1  Estados Unidos Noticias               com.eniseistudio.news.estados_unidos   \n",
      "2         Dental Assistant                  com.eniseistudio.dental_assistant   \n",
      "3        Medical Assistant          com.eniseistudio.course.medical_assistant   \n",
      "4  Business Administration  com.eniseistudio.majors.course.business_admini...   \n",
      "\n",
      "           Category    Rating  Rating Count Installs  Minimum Installs  Free  \\\n",
      "0         Education  4.090909          66.0  10,000+           10000.0  True   \n",
      "1  News & Magazines  4.000000           8.0   1,000+            1000.0  True   \n",
      "2         Education  3.866667          15.0  10,000+           10000.0  True   \n",
      "3         Education  4.000000          18.0   5,000+            5000.0  True   \n",
      "4         Education  4.023256          86.0  50,000+           50000.0  True   \n",
      "\n",
      "   Price Currency  ... Unnamed: 47 Unnamed: 48 Unnamed: 49 Unnamed: 50  \\\n",
      "0    0.0      USD  ...         NaN         NaN         NaN         NaN   \n",
      "1    0.0      USD  ...         NaN         NaN         NaN         NaN   \n",
      "2    0.0      USD  ...         NaN         NaN         NaN         NaN   \n",
      "3    0.0      USD  ...         NaN         NaN         NaN         NaN   \n",
      "4    0.0      USD  ...         NaN         NaN         NaN         NaN   \n",
      "\n",
      "  Unnamed: 51 Unnamed: 52 Unnamed: 53 Unnamed: 54 Unnamed: 55 Unnamed: 56  \n",
      "0         NaN         NaN         NaN         NaN         NaN         NaN  \n",
      "1         NaN         NaN         NaN         NaN         NaN         NaN  \n",
      "2         NaN         NaN         NaN         NaN         NaN         NaN  \n",
      "3         NaN         NaN         NaN         NaN         NaN         NaN  \n",
      "4         NaN         NaN         NaN         NaN         NaN         NaN  \n",
      "\n",
      "[5 rows x 57 columns]\n"
     ]
    }
   ],
   "source": [
    "# Load the dataset\n",
    "data = pd.read_csv('Playstore_final.csv')\n",
    "\n",
    "# Display the first few rows of the dataset\n",
    "print(\"Initial Data:\")\n",
    "print(data.head())"
   ]
  },
  {
   "cell_type": "markdown",
   "id": "8ef26460",
   "metadata": {},
   "source": [
    "# Convert 'Installs' and 'Minimum Installs' columns to numeric"
   ]
  },
  {
   "cell_type": "code",
   "execution_count": 3,
   "id": "bc166f63",
   "metadata": {},
   "outputs": [],
   "source": [
    "data['Installs'] = data['Installs'].str.replace('+', '').str.replace(',', '').astype(float)\n",
    "data['Minimum Installs'] = data['Minimum Installs'].astype(float)"
   ]
  },
  {
   "cell_type": "markdown",
   "id": "dcf6fde9",
   "metadata": {},
   "source": [
    "# Handle Missing Values"
   ]
  },
  {
   "cell_type": "code",
   "execution_count": 4,
   "id": "42b3bc29",
   "metadata": {},
   "outputs": [],
   "source": [
    "data.fillna({\n",
    "    'Rating': data['Rating'].mean(),\n",
    "    'Rating Count': 0,\n",
    "    'Size': 'Varies with device',\n",
    "    'Developer Website': 'N/A',\n",
    "    'Privacy Policy': 'N/A'\n",
    "}, inplace=True)"
   ]
  },
  {
   "cell_type": "markdown",
   "id": "e71d2fdb",
   "metadata": {},
   "source": [
    "# Convert 'Released' and 'Last update' columns to datetime"
   ]
  },
  {
   "cell_type": "code",
   "execution_count": 5,
   "id": "2ada7514",
   "metadata": {},
   "outputs": [],
   "source": [
    "data['Released'] = pd.to_datetime(data['Released'], format='%d-%b-%y', errors='coerce')\n",
    "data['Last update'] = pd.to_datetime(data['Last update'], format='%d-%b-%y', errors='coerce')"
   ]
  },
  {
   "cell_type": "markdown",
   "id": "96b3b10c",
   "metadata": {},
   "source": [
    "# Remove leading and trailing whitespaces from string columns"
   ]
  },
  {
   "cell_type": "code",
   "execution_count": 6,
   "id": "dd5cae9d",
   "metadata": {},
   "outputs": [
    {
     "name": "stderr",
     "output_type": "stream",
     "text": [
      "C:\\Users\\fathi\\AppData\\Local\\Temp\\ipykernel_9708\\3535808219.py:1: FutureWarning: DataFrame.applymap has been deprecated. Use DataFrame.map instead.\n",
      "  data = data.applymap(lambda x: x.strip() if isinstance(x, str) else x)\n"
     ]
    }
   ],
   "source": [
    "data = data.applymap(lambda x: x.strip() if isinstance(x, str) else x)"
   ]
  },
  {
   "cell_type": "markdown",
   "id": "52a31c7a",
   "metadata": {},
   "source": [
    "# Remove any duplicate rows"
   ]
  },
  {
   "cell_type": "code",
   "execution_count": 7,
   "id": "7e75ea19",
   "metadata": {},
   "outputs": [],
   "source": [
    "data.drop_duplicates(inplace=True)"
   ]
  },
  {
   "cell_type": "markdown",
   "id": "a94d19ab",
   "metadata": {},
   "source": [
    "# Replace 'N/A' with NaN for better handling in future analysis"
   ]
  },
  {
   "cell_type": "code",
   "execution_count": 8,
   "id": "7200437c",
   "metadata": {},
   "outputs": [],
   "source": [
    "data.replace('N/A', np.nan, inplace=True)"
   ]
  },
  {
   "cell_type": "markdown",
   "id": "54ac03c6",
   "metadata": {},
   "source": [
    "# Drop columns with all missing values"
   ]
  },
  {
   "cell_type": "code",
   "execution_count": 9,
   "id": "221c7e53",
   "metadata": {},
   "outputs": [],
   "source": [
    "data.dropna(how='all', axis=1, inplace=True)"
   ]
  },
  {
   "cell_type": "code",
   "execution_count": 10,
   "id": "98f3faf8",
   "metadata": {},
   "outputs": [],
   "source": [
    "def convert_size(size_str):\n",
    "    if ',' in size_str:\n",
    "        size_str = size_str.replace(',', '.')\n",
    "    if 'M' in size_str:\n",
    "        return float(size_str.replace('M', '')) * 1e6\n",
    "    elif 'k' in size_str:\n",
    "        return float(size_str.replace('k', '')) * 1e3\n",
    "    else:\n",
    "        return np.nan\n",
    "\n",
    "data['Size'] = data['Size'].apply(convert_size)\n",
    "data = data.dropna(subset=[\n",
    "    'Rating', 'Rating Count', 'Installs', 'Size', 'Content Rating', 'In app purchases', 'Category', 'Free', 'Ad Supported'\n",
    "])"
   ]
  },
  {
   "cell_type": "code",
   "execution_count": 11,
   "id": "ec50d797",
   "metadata": {},
   "outputs": [],
   "source": [
    "try:\n",
    "    data = data[data.columns.drop(list(data.filter(regex='Unnamed:')))]\n",
    "except Exception as e:\n",
    "    print(f\"An unexpected error occurred: {str(e)}\")"
   ]
  },
  {
   "cell_type": "markdown",
   "id": "4cabe8c1",
   "metadata": {},
   "source": [
    "# Display Info"
   ]
  },
  {
   "cell_type": "code",
   "execution_count": 12,
   "id": "1deeb348",
   "metadata": {},
   "outputs": [
    {
     "name": "stdout",
     "output_type": "stream",
     "text": [
      "\n",
      "Cleaned Data Info:\n",
      "<class 'pandas.core.frame.DataFrame'>\n",
      "Index: 254002 entries, 0 to 450791\n",
      "Data columns (total 29 columns):\n",
      " #   Column                 Non-Null Count   Dtype         \n",
      "---  ------                 --------------   -----         \n",
      " 0   App Name               254002 non-null  object        \n",
      " 1   App Id                 254002 non-null  object        \n",
      " 2   Category               254002 non-null  object        \n",
      " 3   Rating                 254002 non-null  float64       \n",
      " 4   Rating Count           254002 non-null  float64       \n",
      " 5   Installs               254002 non-null  float64       \n",
      " 6   Minimum Installs       254002 non-null  float64       \n",
      " 7   Free                   254002 non-null  object        \n",
      " 8   Price                  254002 non-null  float64       \n",
      " 9   Currency               254002 non-null  object        \n",
      " 10  Size                   254002 non-null  float64       \n",
      " 11  Minimum Android        253568 non-null  object        \n",
      " 12  Developer Id           254002 non-null  object        \n",
      " 13  Developer Website      184261 non-null  object        \n",
      " 14  Developer Email        254000 non-null  object        \n",
      " 15  Released               249264 non-null  datetime64[ns]\n",
      " 16  Last update            249439 non-null  datetime64[ns]\n",
      " 17  Privacy Policy         233287 non-null  object        \n",
      " 18  Content Rating         254002 non-null  object        \n",
      " 19  Ad Supported           254002 non-null  object        \n",
      " 20  In app purchases       254002 non-null  bool          \n",
      " 21  Editor Choice          254002 non-null  bool          \n",
      " 22  Summary                253950 non-null  object        \n",
      " 23  Reviews                253926 non-null  float64       \n",
      " 24  Android version Text   253568 non-null  object        \n",
      " 25  Developer              254002 non-null  object        \n",
      " 26  Developer Address      147824 non-null  object        \n",
      " 27  Developer Internal ID  254002 non-null  float64       \n",
      " 28  Version                253923 non-null  object        \n",
      "dtypes: bool(2), datetime64[ns](2), float64(8), object(17)\n",
      "memory usage: 54.7+ MB\n",
      "None\n"
     ]
    }
   ],
   "source": [
    "print(\"\\nCleaned Data Info:\")\n",
    "print(data.info())"
   ]
  },
  {
   "cell_type": "markdown",
   "id": "a0057981",
   "metadata": {},
   "source": [
    "# Save cleaned data to a new CSV file"
   ]
  },
  {
   "cell_type": "code",
   "execution_count": 13,
   "id": "06bf9b23",
   "metadata": {},
   "outputs": [],
   "source": [
    "data.to_csv('cleaned_dataset.csv', index=False)"
   ]
  }
 ],
 "metadata": {
  "kernelspec": {
   "display_name": "Python 3 (ipykernel)",
   "language": "python",
   "name": "python3"
  },
  "language_info": {
   "codemirror_mode": {
    "name": "ipython",
    "version": 3
   },
   "file_extension": ".py",
   "mimetype": "text/x-python",
   "name": "python",
   "nbconvert_exporter": "python",
   "pygments_lexer": "ipython3",
   "version": "3.10.14"
  }
 },
 "nbformat": 4,
 "nbformat_minor": 5
}
