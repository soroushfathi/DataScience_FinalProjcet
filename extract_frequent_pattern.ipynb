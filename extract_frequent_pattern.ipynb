{
 "cells": [
  {
   "cell_type": "markdown",
   "id": "ab28e547",
   "metadata": {},
   "source": [
    "# Imports"
   ]
  },
  {
   "cell_type": "code",
   "execution_count": 1,
   "id": "6fc745dc",
   "metadata": {},
   "outputs": [],
   "source": [
    "import pandas as pd\n",
    "from mlxtend.preprocessing import TransactionEncoder\n",
    "from mlxtend.frequent_patterns import apriori, association_rules\n",
    "from sklearn.cluster import KMeans\n",
    "from sklearn.preprocessing import StandardScaler\n",
    "import matplotlib.pyplot as plt\n",
    "import numpy as np"
   ]
  },
  {
   "cell_type": "markdown",
   "id": "9db5beee",
   "metadata": {},
   "source": [
    "# Load Dataset "
   ]
  },
  {
   "cell_type": "code",
   "execution_count": 2,
   "id": "8493b83a",
   "metadata": {},
   "outputs": [],
   "source": [
    "data = pd.read_csv('cleaned_dataset.csv')"
   ]
  },
  {
   "cell_type": "markdown",
   "id": "c8a7fe81",
   "metadata": {},
   "source": [
    "# Select relevant categorical columns for pattern mining"
   ]
  },
  {
   "cell_type": "code",
   "execution_count": 3,
   "id": "607a1dbe",
   "metadata": {},
   "outputs": [],
   "source": [
    "columns_of_interest = ['Category', 'Free', 'Content Rating', 'Ad Supported', 'In app purchases', 'Editor Choice']"
   ]
  },
  {
   "cell_type": "markdown",
   "id": "927a4b09",
   "metadata": {},
   "source": [
    "# Create a list of transactions"
   ]
  },
  {
   "cell_type": "code",
   "execution_count": 4,
   "id": "7bf4a46c",
   "metadata": {},
   "outputs": [],
   "source": [
    "transactions = []\n",
    "for _, row in data.iterrows():\n",
    "    transaction = []\n",
    "    for col in columns_of_interest:\n",
    "        transaction.append(f\"{col}={row[col]}\")\n",
    "    transactions.append(transaction)"
   ]
  },
  {
   "cell_type": "markdown",
   "id": "c2d8756b",
   "metadata": {},
   "source": [
    "# Use TransactionEncoder to transform the list of transactions into a one-hot encoded DataFrame"
   ]
  },
  {
   "cell_type": "code",
   "execution_count": 5,
   "id": "a2b8c0c5",
   "metadata": {},
   "outputs": [
    {
     "name": "stdout",
     "output_type": "stream",
     "text": [
      "Transformed Data:\n",
      "   Ad Supported=True  Category=Action  Category=Adventure  Category=Arcade  \\\n",
      "0               True            False               False            False   \n",
      "1               True            False               False            False   \n",
      "2               True            False               False            False   \n",
      "3               True            False               False            False   \n",
      "4               True            False               False            False   \n",
      "\n",
      "   Category=Art & Design  Category=Auto & Vehicles  Category=Beauty  \\\n",
      "0                  False                     False            False   \n",
      "1                  False                     False            False   \n",
      "2                  False                     False            False   \n",
      "3                  False                     False            False   \n",
      "4                  False                     False            False   \n",
      "\n",
      "   Category=Board  Category=Books & Reference  Category=Business  ...  \\\n",
      "0           False                       False              False  ...   \n",
      "1           False                       False              False  ...   \n",
      "2           False                       False              False  ...   \n",
      "3           False                       False              False  ...   \n",
      "4           False                       False              False  ...   \n",
      "\n",
      "   Content Rating=Everyone 10+  Content Rating=Mature 17+  \\\n",
      "0                        False                      False   \n",
      "1                        False                      False   \n",
      "2                        False                      False   \n",
      "3                        False                      False   \n",
      "4                        False                      False   \n",
      "\n",
      "   Content Rating=Teen  Content Rating=Unrated  Editor Choice=False  \\\n",
      "0                False                   False                 True   \n",
      "1                False                   False                 True   \n",
      "2                False                   False                 True   \n",
      "3                False                   False                 True   \n",
      "4                False                   False                 True   \n",
      "\n",
      "   Editor Choice=True  Free=False  Free=True  In app purchases=False  \\\n",
      "0               False       False       True                    True   \n",
      "1               False       False       True                    True   \n",
      "2               False       False       True                    True   \n",
      "3               False       False       True                    True   \n",
      "4               False       False       True                    True   \n",
      "\n",
      "   In app purchases=True  \n",
      "0                  False  \n",
      "1                  False  \n",
      "2                  False  \n",
      "3                  False  \n",
      "4                  False  \n",
      "\n",
      "[5 rows x 61 columns]\n"
     ]
    }
   ],
   "source": [
    "te = TransactionEncoder()\n",
    "te_ary = te.fit(transactions).transform(transactions)\n",
    "df = pd.DataFrame(te_ary, columns=te.columns_)\n",
    "\n",
    "# Display the first few rows of the transformed DataFrame\n",
    "print(\"Transformed Data:\")\n",
    "print(df.head())"
   ]
  },
  {
   "cell_type": "markdown",
   "id": "f4b85def",
   "metadata": {},
   "source": [
    "# Apply the Apriori algorithm to find frequent itemsets"
   ]
  },
  {
   "cell_type": "code",
   "execution_count": 6,
   "id": "3425e738",
   "metadata": {},
   "outputs": [
    {
     "name": "stdout",
     "output_type": "stream",
     "text": [
      "Frequent Itemsets:\n",
      "     support                                           itemsets\n",
      "0   1.000000                                (Ad Supported=True)\n",
      "1   0.818238                          (Content Rating=Everyone)\n",
      "2   0.998413                              (Editor Choice=False)\n",
      "3   0.992681                                        (Free=True)\n",
      "4   0.755447                           (In app purchases=False)\n",
      "5   0.818238       (Content Rating=Everyone, Ad Supported=True)\n",
      "6   0.998413           (Editor Choice=False, Ad Supported=True)\n",
      "7   0.992681                     (Free=True, Ad Supported=True)\n",
      "8   0.755447        (In app purchases=False, Ad Supported=True)\n",
      "9   0.817273     (Editor Choice=False, Content Rating=Everyone)\n",
      "10  0.812683               (Free=True, Content Rating=Everyone)\n",
      "11  0.991098                   (Free=True, Editor Choice=False)\n",
      "12  0.755344      (In app purchases=False, Editor Choice=False)\n",
      "13  0.749911                (Free=True, In app purchases=False)\n",
      "14  0.817273  (Editor Choice=False, Content Rating=Everyone,...\n",
      "15  0.812683  (Free=True, Content Rating=Everyone, Ad Suppor...\n",
      "16  0.991098  (Free=True, Editor Choice=False, Ad Supported=...\n",
      "17  0.755344  (In app purchases=False, Editor Choice=False, ...\n",
      "18  0.749911  (Free=True, Ad Supported=True, In app purchase...\n",
      "19  0.811718  (Free=True, Content Rating=Everyone, Editor Ch...\n",
      "20  0.749809  (Free=True, Editor Choice=False, In app purcha...\n",
      "21  0.811718  (Free=True, Content Rating=Everyone, Editor Ch...\n",
      "22  0.749809  (Free=True, Editor Choice=False, Ad Supported=...\n"
     ]
    }
   ],
   "source": [
    "frequent_itemsets = apriori(df, min_support=0.7, use_colnames=True)\n",
    "\n",
    "# Display the frequent itemsets\n",
    "print(\"Frequent Itemsets:\")\n",
    "print(frequent_itemsets)"
   ]
  },
  {
   "cell_type": "markdown",
   "id": "1c479a5e",
   "metadata": {},
   "source": [
    "# Extract association rules from the frequent itemsets\n"
   ]
  },
  {
   "cell_type": "code",
   "execution_count": 7,
   "id": "02a2e1fb",
   "metadata": {},
   "outputs": [
    {
     "name": "stdout",
     "output_type": "stream",
     "text": [
      "Association Rules:\n",
      "                                    antecedents  \\\n",
      "0                     (Content Rating=Everyone)   \n",
      "1                           (Ad Supported=True)   \n",
      "2                         (Editor Choice=False)   \n",
      "3                           (Ad Supported=True)   \n",
      "4                                   (Free=True)   \n",
      "..                                          ...   \n",
      "65     (Editor Choice=False, Ad Supported=True)   \n",
      "66  (In app purchases=False, Ad Supported=True)   \n",
      "67                        (Editor Choice=False)   \n",
      "68                          (Ad Supported=True)   \n",
      "69                     (In app purchases=False)   \n",
      "\n",
      "                                          consequents   support  confidence  \\\n",
      "0                                 (Ad Supported=True)  0.818238    1.000000   \n",
      "1                           (Content Rating=Everyone)  0.818238    0.818238   \n",
      "2                                 (Ad Supported=True)  0.998413    1.000000   \n",
      "3                               (Editor Choice=False)  0.998413    0.998413   \n",
      "4                                 (Ad Supported=True)  0.992681    1.000000   \n",
      "..                                                ...       ...         ...   \n",
      "65                (Free=True, In app purchases=False)  0.749809    0.751001   \n",
      "66                   (Free=True, Editor Choice=False)  0.749809    0.992537   \n",
      "67  (Free=True, Ad Supported=True, In app purchase...  0.749809    0.751001   \n",
      "68  (Free=True, Editor Choice=False, In app purcha...  0.749809    0.749809   \n",
      "69  (Free=True, Editor Choice=False, Ad Supported=...  0.749809    0.992537   \n",
      "\n",
      "        lift  \n",
      "0   1.000000  \n",
      "1   1.000000  \n",
      "2   1.000000  \n",
      "3   1.000000  \n",
      "4   1.000000  \n",
      "..       ...  \n",
      "65  1.001452  \n",
      "66  1.001452  \n",
      "67  1.001452  \n",
      "68  1.000000  \n",
      "69  1.001452  \n",
      "\n",
      "[70 rows x 5 columns]\n"
     ]
    }
   ],
   "source": [
    "rules = association_rules(frequent_itemsets, metric=\"lift\", min_threshold=1)\n",
    "\n",
    "# Display the association rules\n",
    "print(\"Association Rules:\")\n",
    "print(rules[['antecedents', 'consequents', 'support', 'confidence', 'lift']])"
   ]
  },
  {
   "cell_type": "code",
   "execution_count": 8,
   "id": "6891ab5f",
   "metadata": {},
   "outputs": [],
   "source": [
    "# # Convert DataFrame to CSV string and then save\n",
    "# frequent_itemsets_csv = frequent_itemsets.to_csv(index=False)\n",
    "# with open('frequent_itemsets.csv', 'w', encoding='utf-8') as f:\n",
    "#     f.write(frequent_itemsets_csv)\n",
    "\n",
    "# rules_csv = rules.to_csv(index=False)\n",
    "# with open('association_rules.csv', 'w', encoding='utf-8') as f:\n",
    "#     f.write(rules_csv)"
   ]
  },
  {
   "cell_type": "code",
   "execution_count": null,
   "id": "a9d450ca",
   "metadata": {},
   "outputs": [],
   "source": [
    "# Plotting the centroids of the clusters\n",
    "plt.scatter(kmeans.cluster_centers_[:, 0], kmeans.cluster_centers_[:, 1], s=300, c='yellow', label='Centroids')\n",
    "plt.title('Clusters of apps')\n",
    "plt.xlabel('Feature 1 (scaled)')\n",
    "plt.ylabel('Feature 2 (scaled)')\n",
    "plt.legend()\n",
    "plt.show()\n",
    "# 5. Plot the clusters\n",
    "plt.scatter(scaled_features[y_kmeans == 0, 0], scaled_features[y_kmeans == 0, 1], s=100, c='red', label='Cluster 1')\n",
    "plt.scatter(scaled_features[y_kmeans == 1, 0], scaled_features[y_kmeans == 1, 1], s=100, c='blue', label='Cluster 2')\n",
    "plt.scatter(scaled_features[y_kmeans == 2, 0], scaled_features[y_kmeans == 2, 1], s=100, c='green', label='Cluster 3')\n",
    "optimal_k = 3  # Replace this with the K value found from the elbow method\n",
    "kmeans = KMeans(n_clusters=optimal_k, init='k-means++', max_iter=300, n_init=10, random_state=0)\n",
    "y_kmeans = kmeans.fit_predict(scaled_features)"
   ]
  },
  {
   "cell_type": "code",
   "execution_count": null,
   "id": "676889a6",
   "metadata": {},
   "outputs": [],
   "source": [
    "# 5. Plot the clusters\n",
    "plt.scatter(scaled_features[y_kmeans == 0, 0], scaled_features[y_kmeans == 0, 1], s=100, c='red', label='Cluster 1')\n",
    "plt.scatter(scaled_features[y_kmeans == 1, 0], scaled_features[y_kmeans == 1, 1], s=100, c='blue', label='Cluster 2')\n",
    "plt.scatter(scaled_features[y_kmeans == 2, 0], scaled_features[y_kmeans == 2, 1], s=100, c='green', label='Cluster 3')"
   ]
  },
  {
   "cell_type": "code",
   "execution_count": null,
   "id": "b2abf9bb",
   "metadata": {},
   "outputs": [],
   "source": [
    "# Plotting the centroids of the clusters\n",
    "plt.scatter(kmeans.cluster_centers_[:, 0], kmeans.cluster_centers_[:, 1], s=300, c='yellow', label='Centroids')\n",
    "plt.title('Clusters of apps')\n",
    "plt.xlabel('Feature 1 (scaled)')\n",
    "plt.ylabel('Feature 2 (scaled)')\n",
    "plt.legend()\n",
    "plt.show()"
   ]
  },
  {
   "cell_type": "code",
   "execution_count": null,
   "id": "a8044354",
   "metadata": {},
   "outputs": [],
   "source": [
    "import pandas as pd\n",
    "import numpy as np\n",
    "from sklearn.preprocessing import StandardScaler\n",
    "from sklearn.cluster import KMeans\n",
    "from sklearn.metrics import silhouette_score\n",
    "import matplotlib.pyplot as plt\n",
    "import seaborn as sns\n",
    "from sklearn.impute import SimpleImputer\n",
    "\n",
    "df = pd.read_csv(\"Playstore_final.csv\")\n",
    "df.describe(include=\"all\")\n",
    "def show_types(df):\n",
    "    for col in df.columns:\n",
    "        print(col, \"=\", df[col][0], \"=\", type(df[col][0]))\n",
    "\n",
    "\n",
    "show_types(df)\n",
    "for col in df.columns:\n",
    "    if df[col].dtype != \"float64\":\n",
    "        df.drop(col, axis=1, inplace=True)\n",
    "df.columns\n",
    "\n",
    "imputer = SimpleImputer(strategy='mean')\n",
    "df_imputed = imputer.fit_transform(df)\n",
    "\n",
    "scaler = StandardScaler()\n",
    "df_scaled = scaler.fit_transform(df_imputed)\n",
    "wcss = []\n",
    "K = range(1, 11)\n",
    "for k in K:\n",
    "    kmeans = KMeans(n_clusters=k, random_state=42)\n",
    "    kmeans.fit(df_scaled)\n",
    "    wcss.append(kmeans.inertia_)\n",
    "\n",
    "# Plot the elbow method result\n",
    "plt.figure(figsize=(10, 7))\n",
    "plt.plot(K, wcss, \"bx-\")\n",
    "plt.xlabel(\"Number of clusters\")\n",
    "plt.ylabel(\"WCSS\")\n",
    "plt.title(\"Elbow Method For Optimal k\")\n",
    "plt.show()\n",
    "k = 3\n",
    "kmeans = KMeans(n_clusters=k, random_state=42)\n",
    "kmeans.fit(df_scaled)\n",
    "df[\"Cluster\"] = kmeans.labels_\n",
    "silhouette_avg = silhouette_score(df_scaled, kmeans.labels_)\n",
    "print(f\"Silhouette Score: {silhouette_avg}\")\n",
    "\n",
    "for i in range (k):\n",
    "    print(f\"Cluster{i}\")\n",
    "    print(df[\"Cluster\"].describe)\n",
    "from sklearn.decomposition import PCA\n",
    "\n",
    "pca = PCA(n_components=2)\n",
    "df_pca = pca.fit_transform(df_scaled)\n",
    "df_pca = pd.DataFrame(df_pca, columns=[\"PCA1\", \"PCA2\"])\n",
    "df_pca[\"Cluster\"] = df[\"Cluster\"]\n",
    "\n",
    "plt.figure(figsize=(10, 7))\n",
    "sns.scatterplot(x=\"PCA1\", y=\"PCA2\", hue=\"Cluster\", palette=\"viridis\", data=df_pca)\n",
    "plt.title(\"Clusters Visualization with PCA\")\n",
    "plt.show()\n",
    "# Group the original DataFrame by the cluster labels to inspect each cluster's data\n",
    "clusters = df.groupby('Cluster')\n",
    "\n",
    "# Get the summary statistics for each cluster\n",
    "cluster_summaries = {}\n",
    "for cluster_num, cluster_data in clusters:\n",
    "    cluster_summaries[cluster_num] = cluster_data.describe(include='all')\n",
    "\n",
    "# Print the summary statistics for each cluster\n",
    "for cluster_num, summary in cluster_summaries.items():\n",
    "    print(f\"Cluster {cluster_num} Summary:\")\n",
    "    print(summary)\n",
    "    print(\"\\n\")"
   ]
  }
 ],
 "metadata": {
  "kernelspec": {
   "display_name": "Python 3 (ipykernel)",
   "language": "python",
   "name": "python3"
  },
  "language_info": {
   "codemirror_mode": {
    "name": "ipython",
    "version": 3
   },
   "file_extension": ".py",
   "mimetype": "text/x-python",
   "name": "python",
   "nbconvert_exporter": "python",
   "pygments_lexer": "ipython3",
   "version": "3.10.14"
  }
 },
 "nbformat": 4,
 "nbformat_minor": 5
}
