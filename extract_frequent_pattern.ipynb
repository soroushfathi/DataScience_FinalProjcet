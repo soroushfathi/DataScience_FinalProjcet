{
 "cells": [
  {
   "cell_type": "markdown",
   "id": "ab28e547",
   "metadata": {},
   "source": [
    "# Imports"
   ]
  },
  {
   "cell_type": "code",
   "execution_count": 21,
   "id": "6fc745dc",
   "metadata": {},
   "outputs": [],
   "source": [
    "import pandas as pd\n",
    "from mlxtend.preprocessing import TransactionEncoder\n",
    "from mlxtend.frequent_patterns import apriori, association_rules"
   ]
  },
  {
   "cell_type": "markdown",
   "id": "9db5beee",
   "metadata": {},
   "source": [
    "# Load Dataset "
   ]
  },
  {
   "cell_type": "code",
   "execution_count": 22,
   "id": "8493b83a",
   "metadata": {},
   "outputs": [
    {
     "name": "stderr",
     "output_type": "stream",
     "text": [
      "C:\\Users\\fathi\\AppData\\Local\\Temp\\ipykernel_8340\\1410160792.py:1: DtypeWarning: Columns (7,12,29,30,33,35,37,38,40,41,42,43,44,45,46,47,48,50,51) have mixed types. Specify dtype option on import or set low_memory=False.\n",
      "  data = pd.read_csv('cleaned_dataset.csv')\n"
     ]
    }
   ],
   "source": [
    "data = pd.read_csv('cleaned_dataset.csv')"
   ]
  },
  {
   "cell_type": "markdown",
   "id": "c8a7fe81",
   "metadata": {},
   "source": [
    "# Select relevant categorical columns for pattern mining"
   ]
  },
  {
   "cell_type": "code",
   "execution_count": 23,
   "id": "607a1dbe",
   "metadata": {},
   "outputs": [],
   "source": [
    "columns_of_interest = ['Category', 'Free', 'Content Rating', 'Ad Supported', 'In app purchases', 'Editor Choice']"
   ]
  },
  {
   "cell_type": "markdown",
   "id": "927a4b09",
   "metadata": {},
   "source": [
    "# Create a list of transactions"
   ]
  },
  {
   "cell_type": "code",
   "execution_count": 24,
   "id": "7bf4a46c",
   "metadata": {},
   "outputs": [],
   "source": [
    "transactions = []\n",
    "for _, row in data.iterrows():\n",
    "    transaction = []\n",
    "    for col in columns_of_interest:\n",
    "        transaction.append(f\"{col}={row[col]}\")\n",
    "    transactions.append(transaction)"
   ]
  },
  {
   "cell_type": "markdown",
   "id": "c2d8756b",
   "metadata": {},
   "source": [
    "# Use TransactionEncoder to transform the list of transactions into a one-hot encoded DataFrame"
   ]
  },
  {
   "cell_type": "code",
   "execution_count": 25,
   "id": "a2b8c0c5",
   "metadata": {},
   "outputs": [
    {
     "name": "stdout",
     "output_type": "stream",
     "text": [
      "Transformed Data:\n",
      "   Ad Supported=True  Ad Supported=nan  Category=Action  Category=Adventure  \\\n",
      "0               True             False            False               False   \n",
      "1               True             False            False               False   \n",
      "2               True             False            False               False   \n",
      "3               True             False            False               False   \n",
      "4               True             False            False               False   \n",
      "\n",
      "   Category=Arcade  Category=Art & Design  Category=Auto & Vehicles  \\\n",
      "0            False                  False                     False   \n",
      "1            False                  False                     False   \n",
      "2            False                  False                     False   \n",
      "3            False                  False                     False   \n",
      "4            False                  False                     False   \n",
      "\n",
      "   Category=Beauty  Category=Board  Category=Books & Reference  ...  \\\n",
      "0            False           False                       False  ...   \n",
      "1            False           False                       False  ...   \n",
      "2            False           False                       False  ...   \n",
      "3            False           False                       False  ...   \n",
      "4            False           False                       False  ...   \n",
      "\n",
      "   Content Rating=Teen  Content Rating=Unrated  Content Rating=nan  \\\n",
      "0                False                   False               False   \n",
      "1                False                   False               False   \n",
      "2                False                   False               False   \n",
      "3                False                   False               False   \n",
      "4                False                   False               False   \n",
      "\n",
      "   Editor Choice=False  Editor Choice=True  Free=False  Free=True  Free=nan  \\\n",
      "0                 True               False       False       True     False   \n",
      "1                 True               False       False       True     False   \n",
      "2                 True               False       False       True     False   \n",
      "3                 True               False       False       True     False   \n",
      "4                 True               False       False       True     False   \n",
      "\n",
      "   In app purchases=False  In app purchases=True  \n",
      "0                    True                  False  \n",
      "1                    True                  False  \n",
      "2                    True                  False  \n",
      "3                    True                  False  \n",
      "4                    True                  False  \n",
      "\n",
      "[5 rows x 65 columns]\n"
     ]
    }
   ],
   "source": [
    "te = TransactionEncoder()\n",
    "te_ary = te.fit(transactions).transform(transactions)\n",
    "df = pd.DataFrame(te_ary, columns=te.columns_)\n",
    "\n",
    "# Display the first few rows of the transformed DataFrame\n",
    "print(\"Transformed Data:\")\n",
    "print(df.head())"
   ]
  },
  {
   "cell_type": "markdown",
   "id": "f4b85def",
   "metadata": {},
   "source": [
    "# Apply the Apriori algorithm to find frequent itemsets"
   ]
  },
  {
   "cell_type": "code",
   "execution_count": 27,
   "id": "3425e738",
   "metadata": {},
   "outputs": [
    {
     "name": "stdout",
     "output_type": "stream",
     "text": [
      "Frequent Itemsets:\n",
      "     support                                           itemsets\n",
      "0   0.852162                          (Content Rating=Everyone)\n",
      "1   0.998272                              (Editor Choice=False)\n",
      "2   0.935996                                        (Free=True)\n",
      "3   0.791676                           (In app purchases=False)\n",
      "4   0.851147     (Content Rating=Everyone, Editor Choice=False)\n",
      "5   0.795389               (Free=True, Content Rating=Everyone)\n",
      "6   0.934352                   (Free=True, Editor Choice=False)\n",
      "7   0.791355      (In app purchases=False, Editor Choice=False)\n",
      "8   0.733936                (In app purchases=False, Free=True)\n",
      "9   0.794404  (Free=True, Content Rating=Everyone, Editor Ch...\n",
      "10  0.733674  (In app purchases=False, Free=True, Editor Cho...\n"
     ]
    }
   ],
   "source": [
    "frequent_itemsets = apriori(df, min_support=0.7, use_colnames=True)\n",
    "\n",
    "# Display the frequent itemsets\n",
    "print(\"Frequent Itemsets:\")\n",
    "print(frequent_itemsets)"
   ]
  },
  {
   "cell_type": "markdown",
   "id": "1c479a5e",
   "metadata": {},
   "source": [
    "# Extract association rules from the frequent itemsets\n"
   ]
  },
  {
   "cell_type": "code",
   "execution_count": 31,
   "id": "02a2e1fb",
   "metadata": {},
   "outputs": [
    {
     "name": "stdout",
     "output_type": "stream",
     "text": [
      "Association Rules:\n",
      "                            antecedents                           consequents  \\\n",
      "0             (Content Rating=Everyone)                 (Editor Choice=False)   \n",
      "1                 (Editor Choice=False)             (Content Rating=Everyone)   \n",
      "2              (In app purchases=False)                 (Editor Choice=False)   \n",
      "3                 (Editor Choice=False)              (In app purchases=False)   \n",
      "4  (Free=True, Content Rating=Everyone)                 (Editor Choice=False)   \n",
      "5                 (Editor Choice=False)  (Free=True, Content Rating=Everyone)   \n",
      "6   (In app purchases=False, Free=True)                 (Editor Choice=False)   \n",
      "7                 (Editor Choice=False)   (In app purchases=False, Free=True)   \n",
      "\n",
      "    support  confidence      lift  \n",
      "0  0.851147    0.998808  1.000538  \n",
      "1  0.851147    0.852620  1.000538  \n",
      "2  0.791355    0.999594  1.001325  \n",
      "3  0.791355    0.792725  1.001325  \n",
      "4  0.794404    0.998762  1.000491  \n",
      "5  0.794404    0.795779  1.000491  \n",
      "6  0.733674    0.999642  1.001373  \n",
      "7  0.733674    0.734944  1.001373  \n"
     ]
    }
   ],
   "source": [
    "rules = association_rules(frequent_itemsets, metric=\"lift\", min_threshold=1)\n",
    "\n",
    "# Display the association rules\n",
    "print(\"Association Rules:\")\n",
    "print(rules[['antecedents', 'consequents', 'support', 'confidence', 'lift']])"
   ]
  },
  {
   "cell_type": "code",
   "execution_count": 32,
   "id": "6891ab5f",
   "metadata": {},
   "outputs": [],
   "source": [
    "# # Convert DataFrame to CSV string and then save\n",
    "# frequent_itemsets_csv = frequent_itemsets.to_csv(index=False)\n",
    "# with open('frequent_itemsets.csv', 'w', encoding='utf-8') as f:\n",
    "#     f.write(frequent_itemsets_csv)\n",
    "\n",
    "# rules_csv = rules.to_csv(index=False)\n",
    "# with open('association_rules.csv', 'w', encoding='utf-8') as f:\n",
    "#     f.write(rules_csv)"
   ]
  },
  {
   "cell_type": "code",
   "execution_count": null,
   "id": "4ed788d7",
   "metadata": {},
   "outputs": [],
   "source": []
  },
  {
   "cell_type": "code",
   "execution_count": null,
   "id": "74c103e1",
   "metadata": {},
   "outputs": [],
   "source": []
  }
 ],
 "metadata": {
  "kernelspec": {
   "display_name": "Python 3 (ipykernel)",
   "language": "python",
   "name": "python3"
  },
  "language_info": {
   "codemirror_mode": {
    "name": "ipython",
    "version": 3
   },
   "file_extension": ".py",
   "mimetype": "text/x-python",
   "name": "python",
   "nbconvert_exporter": "python",
   "pygments_lexer": "ipython3",
   "version": "3.10.4"
  }
 },
 "nbformat": 4,
 "nbformat_minor": 5
}
