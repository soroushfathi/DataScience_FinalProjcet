{
 "cells": [
  {
   "cell_type": "markdown",
   "id": "0a53ec84",
   "metadata": {},
   "source": [
    "# Imports"
   ]
  },
  {
   "cell_type": "code",
   "execution_count": 108,
   "id": "7eb91b40",
   "metadata": {},
   "outputs": [],
   "source": [
    "import pandas as pd\n",
    "from mlxtend.preprocessing import TransactionEncoder\n",
    "from mlxtend.frequent_patterns import apriori, association_rules\n",
    "from sklearn.cluster import KMeans\n",
    "from sklearn.preprocessing import StandardScaler\n",
    "import matplotlib.pyplot as plt\n",
    "import numpy as np \n",
    "from scipy.cluster.hierarchy import dendrogram, linkage\n",
    "import seaborn as sns"
   ]
  },
  {
   "cell_type": "markdown",
   "id": "7770ca85",
   "metadata": {},
   "source": [
    "# Load Data"
   ]
  },
  {
   "cell_type": "code",
   "execution_count": 167,
   "id": "b156b4ca",
   "metadata": {},
   "outputs": [],
   "source": [
    "data = pd.read_csv('cleaned_dataset.csv')"
   ]
  },
  {
   "cell_type": "markdown",
   "id": "67bbe6e7-3d70-487e-8dfe-e9d097ff1483",
   "metadata": {},
   "source": [
    "# Feature Selection"
   ]
  },
  {
   "cell_type": "code",
   "execution_count": 168,
   "id": "51cd2c13",
   "metadata": {},
   "outputs": [
    {
     "data": {
      "text/html": [
       "<div>\n",
       "<style scoped>\n",
       "    .dataframe tbody tr th:only-of-type {\n",
       "        vertical-align: middle;\n",
       "    }\n",
       "\n",
       "    .dataframe tbody tr th {\n",
       "        vertical-align: top;\n",
       "    }\n",
       "\n",
       "    .dataframe thead th {\n",
       "        text-align: right;\n",
       "    }\n",
       "</style>\n",
       "<table border=\"1\" class=\"dataframe\">\n",
       "  <thead>\n",
       "    <tr style=\"text-align: right;\">\n",
       "      <th></th>\n",
       "      <th>Rating</th>\n",
       "      <th>Installs</th>\n",
       "    </tr>\n",
       "  </thead>\n",
       "  <tbody>\n",
       "    <tr>\n",
       "      <th>0</th>\n",
       "      <td>4.090909</td>\n",
       "      <td>10000.0</td>\n",
       "    </tr>\n",
       "    <tr>\n",
       "      <th>1</th>\n",
       "      <td>4.000000</td>\n",
       "      <td>1000.0</td>\n",
       "    </tr>\n",
       "    <tr>\n",
       "      <th>2</th>\n",
       "      <td>3.866667</td>\n",
       "      <td>10000.0</td>\n",
       "    </tr>\n",
       "    <tr>\n",
       "      <th>3</th>\n",
       "      <td>4.000000</td>\n",
       "      <td>5000.0</td>\n",
       "    </tr>\n",
       "    <tr>\n",
       "      <th>4</th>\n",
       "      <td>4.023256</td>\n",
       "      <td>50000.0</td>\n",
       "    </tr>\n",
       "  </tbody>\n",
       "</table>\n",
       "</div>"
      ],
      "text/plain": [
       "     Rating  Installs\n",
       "0  4.090909   10000.0\n",
       "1  4.000000    1000.0\n",
       "2  3.866667   10000.0\n",
       "3  4.000000    5000.0\n",
       "4  4.023256   50000.0"
      ]
     },
     "execution_count": 168,
     "metadata": {},
     "output_type": "execute_result"
    }
   ],
   "source": [
    "# TODO: Category ?\n",
    "features = ['Rating', 'Installs']\n",
    "X = data[features]\n",
    "X.head()"
   ]
  },
  {
   "cell_type": "code",
   "execution_count": 169,
   "id": "b09be307-edc8-4623-971c-38896a32240c",
   "metadata": {},
   "outputs": [],
   "source": [
    "# X = pd.get_dummies(X, columns=['Category'])\n",
    "# X.head()"
   ]
  },
  {
   "cell_type": "code",
   "execution_count": 170,
   "id": "0f36b457-5780-4576-b874-cbbac7384b92",
   "metadata": {},
   "outputs": [],
   "source": [
    "# Replace 'Varies' and other non-numeric values with NaN\n",
    "# X['Minimum Android'] = pd.to_numeric(X['Minimum Android'], errors='coerce')\n",
    "\n",
    "# Optionally, fill NaN values with the mean or a specific value\n",
    "# df['Minimum Android'].fillna(df['Minimum Android'].mean(), inplace=True)\n",
    "# X['Minimum Android'].fillna(0)"
   ]
  },
  {
   "cell_type": "markdown",
   "id": "fb108370-f27f-4760-b190-d374a4474200",
   "metadata": {},
   "source": [
    "# Scaling\n",
    "Standardize the data to ensure all features contribute equally to the distance calculations."
   ]
  },
  {
   "cell_type": "code",
   "execution_count": 171,
   "id": "edf8d429",
   "metadata": {},
   "outputs": [
    {
     "data": {
      "text/html": [
       "<div>\n",
       "<style scoped>\n",
       "    .dataframe tbody tr th:only-of-type {\n",
       "        vertical-align: middle;\n",
       "    }\n",
       "\n",
       "    .dataframe tbody tr th {\n",
       "        vertical-align: top;\n",
       "    }\n",
       "\n",
       "    .dataframe thead th {\n",
       "        text-align: right;\n",
       "    }\n",
       "</style>\n",
       "<table border=\"1\" class=\"dataframe\">\n",
       "  <thead>\n",
       "    <tr style=\"text-align: right;\">\n",
       "      <th></th>\n",
       "      <th>Rating</th>\n",
       "      <th>Installs</th>\n",
       "    </tr>\n",
       "  </thead>\n",
       "  <tbody>\n",
       "    <tr>\n",
       "      <th>0</th>\n",
       "      <td>0.512928</td>\n",
       "      <td>-0.071571</td>\n",
       "    </tr>\n",
       "    <tr>\n",
       "      <th>1</th>\n",
       "      <td>0.462432</td>\n",
       "      <td>-0.072665</td>\n",
       "    </tr>\n",
       "    <tr>\n",
       "      <th>2</th>\n",
       "      <td>0.388373</td>\n",
       "      <td>-0.071571</td>\n",
       "    </tr>\n",
       "    <tr>\n",
       "      <th>3</th>\n",
       "      <td>0.462432</td>\n",
       "      <td>-0.072178</td>\n",
       "    </tr>\n",
       "    <tr>\n",
       "      <th>4</th>\n",
       "      <td>0.475350</td>\n",
       "      <td>-0.066707</td>\n",
       "    </tr>\n",
       "  </tbody>\n",
       "</table>\n",
       "</div>"
      ],
      "text/plain": [
       "     Rating  Installs\n",
       "0  0.512928 -0.071571\n",
       "1  0.462432 -0.072665\n",
       "2  0.388373 -0.071571\n",
       "3  0.462432 -0.072178\n",
       "4  0.475350 -0.066707"
      ]
     },
     "execution_count": 171,
     "metadata": {},
     "output_type": "execute_result"
    }
   ],
   "source": [
    "scaler = StandardScaler()\n",
    "X_scaled = scaler.fit_transform(X)\n",
    "\n",
    "# Convert scaled features back to a DataFrame for convenience\n",
    "scaled_features_df = pd.DataFrame(X_scaled, columns=X.columns)\n",
    "scaled_features_df.head()"
   ]
  },
  {
   "cell_type": "code",
   "execution_count": 172,
   "id": "da7b5e89",
   "metadata": {},
   "outputs": [
    {
     "name": "stderr",
     "output_type": "stream",
     "text": [
      "/usr/local/lib/python3.10/dist-packages/sklearn/cluster/_kmeans.py:1416: FutureWarning: The default value of `n_init` will change from 10 to 'auto' in 1.4. Set the value of `n_init` explicitly to suppress the warning\n",
      "  super()._check_params_vs_input(X, default_n_init=10)\n",
      "/usr/local/lib/python3.10/dist-packages/sklearn/cluster/_kmeans.py:1416: FutureWarning: The default value of `n_init` will change from 10 to 'auto' in 1.4. Set the value of `n_init` explicitly to suppress the warning\n",
      "  super()._check_params_vs_input(X, default_n_init=10)\n",
      "/usr/local/lib/python3.10/dist-packages/sklearn/cluster/_kmeans.py:1416: FutureWarning: The default value of `n_init` will change from 10 to 'auto' in 1.4. Set the value of `n_init` explicitly to suppress the warning\n",
      "  super()._check_params_vs_input(X, default_n_init=10)\n",
      "/usr/local/lib/python3.10/dist-packages/sklearn/cluster/_kmeans.py:1416: FutureWarning: The default value of `n_init` will change from 10 to 'auto' in 1.4. Set the value of `n_init` explicitly to suppress the warning\n",
      "  super()._check_params_vs_input(X, default_n_init=10)\n",
      "/usr/local/lib/python3.10/dist-packages/sklearn/cluster/_kmeans.py:1416: FutureWarning: The default value of `n_init` will change from 10 to 'auto' in 1.4. Set the value of `n_init` explicitly to suppress the warning\n",
      "  super()._check_params_vs_input(X, default_n_init=10)\n",
      "/usr/local/lib/python3.10/dist-packages/sklearn/cluster/_kmeans.py:1416: FutureWarning: The default value of `n_init` will change from 10 to 'auto' in 1.4. Set the value of `n_init` explicitly to suppress the warning\n",
      "  super()._check_params_vs_input(X, default_n_init=10)\n",
      "/usr/local/lib/python3.10/dist-packages/sklearn/cluster/_kmeans.py:1416: FutureWarning: The default value of `n_init` will change from 10 to 'auto' in 1.4. Set the value of `n_init` explicitly to suppress the warning\n",
      "  super()._check_params_vs_input(X, default_n_init=10)\n",
      "/usr/local/lib/python3.10/dist-packages/sklearn/cluster/_kmeans.py:1416: FutureWarning: The default value of `n_init` will change from 10 to 'auto' in 1.4. Set the value of `n_init` explicitly to suppress the warning\n",
      "  super()._check_params_vs_input(X, default_n_init=10)\n",
      "/usr/local/lib/python3.10/dist-packages/sklearn/cluster/_kmeans.py:1416: FutureWarning: The default value of `n_init` will change from 10 to 'auto' in 1.4. Set the value of `n_init` explicitly to suppress the warning\n",
      "  super()._check_params_vs_input(X, default_n_init=10)\n",
      "/usr/local/lib/python3.10/dist-packages/sklearn/cluster/_kmeans.py:1416: FutureWarning: The default value of `n_init` will change from 10 to 'auto' in 1.4. Set the value of `n_init` explicitly to suppress the warning\n",
      "  super()._check_params_vs_input(X, default_n_init=10)\n"
     ]
    }
   ],
   "source": [
    "# Determine the optimal number of clusters using the Elbow method\n",
    "sse = []\n",
    "k_range = range(1, 11)\n",
    "for k in k_range:\n",
    "    kmeans = KMeans(n_clusters=k, random_state=42)\n",
    "    kmeans.fit(X_scaled)\n",
    "    sse.append(kmeans.inertia_)"
   ]
  },
  {
   "cell_type": "code",
   "execution_count": 173,
   "id": "9bdccd2e",
   "metadata": {},
   "outputs": [
    {
     "data": {
      "image/png": "[encoded data removed]",
      "text/plain": [
       "<Figure size 1000x600 with 1 Axes>"
      ]
     },
     "metadata": {},
     "output_type": "display_data"
    }
   ],
   "source": [
    "# Plot the Elbow method result\n",
    "plt.figure(figsize=(10, 6))\n",
    "plt.plot(k_range, sse, 'bx-')\n",
    "plt.xlabel('Number of clusters')\n",
    "plt.ylabel('Sum of squared distances')\n",
    "plt.title('Elbow Method For Optimal k')\n",
    "plt.show()"
   ]
  },
  {
   "cell_type": "code",
   "execution_count": 174,
   "id": "c3d0856f",
   "metadata": {},
   "outputs": [
    {
     "name": "stderr",
     "output_type": "stream",
     "text": [
      "/usr/local/lib/python3.10/dist-packages/sklearn/cluster/_kmeans.py:1416: FutureWarning: The default value of `n_init` will change from 10 to 'auto' in 1.4. Set the value of `n_init` explicitly to suppress the warning\n",
      "  super()._check_params_vs_input(X, default_n_init=10)\n",
      "/usr/local/lib/python3.10/dist-packages/sklearn/cluster/_kmeans.py:1416: FutureWarning: The default value of `n_init` will change from 10 to 'auto' in 1.4. Set the value of `n_init` explicitly to suppress the warning\n",
      "  super()._check_params_vs_input(X, default_n_init=10)\n"
     ]
    },
    {
     "data": {
      "text/html": [
       "<div>\n",
       "<style scoped>\n",
       "    .dataframe tbody tr th:only-of-type {\n",
       "        vertical-align: middle;\n",
       "    }\n",
       "\n",
       "    .dataframe tbody tr th {\n",
       "        vertical-align: top;\n",
       "    }\n",
       "\n",
       "    .dataframe thead th {\n",
       "        text-align: right;\n",
       "    }\n",
       "</style>\n",
       "<table border=\"1\" class=\"dataframe\">\n",
       "  <thead>\n",
       "    <tr style=\"text-align: right;\">\n",
       "      <th></th>\n",
       "      <th>App Name</th>\n",
       "      <th>App Id</th>\n",
       "      <th>Category</th>\n",
       "      <th>Rating</th>\n",
       "      <th>Rating Count</th>\n",
       "      <th>Installs</th>\n",
       "      <th>Minimum Installs</th>\n",
       "      <th>Free</th>\n",
       "      <th>Price</th>\n",
       "      <th>Currency</th>\n",
       "      <th>...</th>\n",
       "      <th>In app purchases</th>\n",
       "      <th>Editor Choice</th>\n",
       "      <th>Summary</th>\n",
       "      <th>Reviews</th>\n",
       "      <th>Android version Text</th>\n",
       "      <th>Developer</th>\n",
       "      <th>Developer Address</th>\n",
       "      <th>Developer Internal ID</th>\n",
       "      <th>Version</th>\n",
       "      <th>KMeans_Cluster</th>\n",
       "    </tr>\n",
       "  </thead>\n",
       "  <tbody>\n",
       "    <tr>\n",
       "      <th>0</th>\n",
       "      <td>Logistics Management</td>\n",
       "      <td>com.eniseistudio.logistics_management</td>\n",
       "      <td>Education</td>\n",
       "      <td>4.090909</td>\n",
       "      <td>66.0</td>\n",
       "      <td>10000.0</td>\n",
       "      <td>10000.0</td>\n",
       "      <td>True</td>\n",
       "      <td>0.0</td>\n",
       "      <td>USD</td>\n",
       "      <td>...</td>\n",
       "      <td>False</td>\n",
       "      <td>False</td>\n",
       "      <td>Leading Online Learning and Training System in...</td>\n",
       "      <td>28.0</td>\n",
       "      <td>4.0 and up</td>\n",
       "      <td>eniseistudio</td>\n",
       "      <td>7115 N Muscatel Ave San Gabriel, CA 91775 Unit...</td>\n",
       "      <td>4.656450e+18</td>\n",
       "      <td>1.1.5</td>\n",
       "      <td>0</td>\n",
       "    </tr>\n",
       "    <tr>\n",
       "      <th>1</th>\n",
       "      <td>Estados Unidos Noticias</td>\n",
       "      <td>com.eniseistudio.news.estados_unidos</td>\n",
       "      <td>News &amp; Magazines</td>\n",
       "      <td>4.000000</td>\n",
       "      <td>8.0</td>\n",
       "      <td>1000.0</td>\n",
       "      <td>1000.0</td>\n",
       "      <td>True</td>\n",
       "      <td>0.0</td>\n",
       "      <td>USD</td>\n",
       "      <td>...</td>\n",
       "      <td>False</td>\n",
       "      <td>False</td>\n",
       "      <td>Top Stories\\r\\nWorld\\r\\nEntertainment\\r\\nSport...</td>\n",
       "      <td>3.0</td>\n",
       "      <td>4.0 and up</td>\n",
       "      <td>eniseistudio</td>\n",
       "      <td>7115 N Muscatel Ave San Gabriel, CA 91775 Unit...</td>\n",
       "      <td>4.656450e+18</td>\n",
       "      <td>1.2.3</td>\n",
       "      <td>0</td>\n",
       "    </tr>\n",
       "    <tr>\n",
       "      <th>2</th>\n",
       "      <td>Dental Assistant</td>\n",
       "      <td>com.eniseistudio.dental_assistant</td>\n",
       "      <td>Education</td>\n",
       "      <td>3.866667</td>\n",
       "      <td>15.0</td>\n",
       "      <td>10000.0</td>\n",
       "      <td>10000.0</td>\n",
       "      <td>True</td>\n",
       "      <td>0.0</td>\n",
       "      <td>USD</td>\n",
       "      <td>...</td>\n",
       "      <td>False</td>\n",
       "      <td>False</td>\n",
       "      <td>Dental Assistant: Study Dental Assistant, Dent...</td>\n",
       "      <td>3.0</td>\n",
       "      <td>4.0 and up</td>\n",
       "      <td>eniseistudio</td>\n",
       "      <td>7115 N Muscatel Ave San Gabriel, CA 91775 Unit...</td>\n",
       "      <td>4.656450e+18</td>\n",
       "      <td>1.1.5</td>\n",
       "      <td>0</td>\n",
       "    </tr>\n",
       "    <tr>\n",
       "      <th>3</th>\n",
       "      <td>Medical Assistant</td>\n",
       "      <td>com.eniseistudio.course.medical_assistant</td>\n",
       "      <td>Education</td>\n",
       "      <td>4.000000</td>\n",
       "      <td>18.0</td>\n",
       "      <td>5000.0</td>\n",
       "      <td>5000.0</td>\n",
       "      <td>True</td>\n",
       "      <td>0.0</td>\n",
       "      <td>USD</td>\n",
       "      <td>...</td>\n",
       "      <td>False</td>\n",
       "      <td>False</td>\n",
       "      <td>Medical Assistant Degree Medical Assistant Job...</td>\n",
       "      <td>7.0</td>\n",
       "      <td>4.0 and up</td>\n",
       "      <td>eniseistudio</td>\n",
       "      <td>7115 N Muscatel Ave San Gabriel, CA 91775 Unit...</td>\n",
       "      <td>4.656450e+18</td>\n",
       "      <td>1.1.4</td>\n",
       "      <td>0</td>\n",
       "    </tr>\n",
       "    <tr>\n",
       "      <th>4</th>\n",
       "      <td>Business Administration</td>\n",
       "      <td>com.eniseistudio.majors.course.business_admini...</td>\n",
       "      <td>Education</td>\n",
       "      <td>4.023256</td>\n",
       "      <td>86.0</td>\n",
       "      <td>50000.0</td>\n",
       "      <td>50000.0</td>\n",
       "      <td>True</td>\n",
       "      <td>0.0</td>\n",
       "      <td>USD</td>\n",
       "      <td>...</td>\n",
       "      <td>False</td>\n",
       "      <td>False</td>\n",
       "      <td>Business Administration Learning, Business Adm...</td>\n",
       "      <td>29.0</td>\n",
       "      <td>4.0 and up</td>\n",
       "      <td>eniseistudio</td>\n",
       "      <td>7115 N Muscatel Ave San Gabriel, CA 91775 Unit...</td>\n",
       "      <td>4.656450e+18</td>\n",
       "      <td>1.1.6</td>\n",
       "      <td>0</td>\n",
       "    </tr>\n",
       "  </tbody>\n",
       "</table>\n",
       "<p>5 rows × 30 columns</p>\n",
       "</div>"
      ],
      "text/plain": [
       "                  App Name                                             App Id  \\\n",
       "0     Logistics Management              com.eniseistudio.logistics_management   \n",
       "1  Estados Unidos Noticias               com.eniseistudio.news.estados_unidos   \n",
       "2         Dental Assistant                  com.eniseistudio.dental_assistant   \n",
       "3        Medical Assistant          com.eniseistudio.course.medical_assistant   \n",
       "4  Business Administration  com.eniseistudio.majors.course.business_admini...   \n",
       "\n",
       "           Category    Rating  Rating Count  Installs  Minimum Installs  Free  \\\n",
       "0         Education  4.090909          66.0   10000.0           10000.0  True   \n",
       "1  News & Magazines  4.000000           8.0    1000.0            1000.0  True   \n",
       "2         Education  3.866667          15.0   10000.0           10000.0  True   \n",
       "3         Education  4.000000          18.0    5000.0            5000.0  True   \n",
       "4         Education  4.023256          86.0   50000.0           50000.0  True   \n",
       "\n",
       "   Price Currency  ...  In app purchases Editor Choice  \\\n",
       "0    0.0      USD  ...             False         False   \n",
       "1    0.0      USD  ...             False         False   \n",
       "2    0.0      USD  ...             False         False   \n",
       "3    0.0      USD  ...             False         False   \n",
       "4    0.0      USD  ...             False         False   \n",
       "\n",
       "                                             Summary Reviews  \\\n",
       "0  Leading Online Learning and Training System in...    28.0   \n",
       "1  Top Stories\\r\\nWorld\\r\\nEntertainment\\r\\nSport...     3.0   \n",
       "2  Dental Assistant: Study Dental Assistant, Dent...     3.0   \n",
       "3  Medical Assistant Degree Medical Assistant Job...     7.0   \n",
       "4  Business Administration Learning, Business Adm...    29.0   \n",
       "\n",
       "  Android version Text     Developer  \\\n",
       "0           4.0 and up  eniseistudio   \n",
       "1           4.0 and up  eniseistudio   \n",
       "2           4.0 and up  eniseistudio   \n",
       "3           4.0 and up  eniseistudio   \n",
       "4           4.0 and up  eniseistudio   \n",
       "\n",
       "                                   Developer Address Developer Internal ID  \\\n",
       "0  7115 N Muscatel Ave San Gabriel, CA 91775 Unit...          4.656450e+18   \n",
       "1  7115 N Muscatel Ave San Gabriel, CA 91775 Unit...          4.656450e+18   \n",
       "2  7115 N Muscatel Ave San Gabriel, CA 91775 Unit...          4.656450e+18   \n",
       "3  7115 N Muscatel Ave San Gabriel, CA 91775 Unit...          4.656450e+18   \n",
       "4  7115 N Muscatel Ave San Gabriel, CA 91775 Unit...          4.656450e+18   \n",
       "\n",
       "  Version  KMeans_Cluster  \n",
       "0   1.1.5               0  \n",
       "1   1.2.3               0  \n",
       "2   1.1.5               0  \n",
       "3   1.1.4               0  \n",
       "4   1.1.6               0  \n",
       "\n",
       "[5 rows x 30 columns]"
      ]
     },
     "execution_count": 174,
     "metadata": {},
     "output_type": "execute_result"
    }
   ],
   "source": [
    "kmeans = KMeans(n_clusters=3, random_state=0).fit(X_scaled)\n",
    "data['KMeans_Cluster'] = kmeans.labels_\n",
    "y_kmeans = kmeans.fit_predict(X_scaled)\n",
    "\n",
    "data.head()"
   ]
  },
  {
   "cell_type": "markdown",
   "id": "11f0c6cd-81b3-46e4-9f2e-46438767a176",
   "metadata": {},
   "source": [
    "# Plot"
   ]
  },
  {
   "cell_type": "code",
   "execution_count": 175,
   "id": "9731bf73",
   "metadata": {},
   "outputs": [
    {
     "data": {
      "text/plain": [
       "<matplotlib.collections.PathCollection at 0x7f6931ccc5e0>"
      ]
     },
     "execution_count": 175,
     "metadata": {},
     "output_type": "execute_result"
    },
    {
     "data": {
      "image/png": "[encoded data removed]",
      "text/plain": [
       "<Figure size 640x480 with 1 Axes>"
      ]
     },
     "metadata": {},
     "output_type": "display_data"
    }
   ],
   "source": [
    "plt.scatter(X_scaled[y_kmeans == 0, 0], X_scaled[y_kmeans == 0, 1], s=100, c='red', label='Cluster 1')\n",
    "plt.scatter(X_scaled[y_kmeans == 1, 0], X_scaled[y_kmeans == 1, 1], s=100, c='blue', label='Cluster 2')\n",
    "plt.scatter(X_scaled[y_kmeans == 2, 0], X_scaled[y_kmeans == 2, 1], s=100, c='green', label='Cluster 3')\n",
    "# plt.scatter(X_scaled[y_kmeans == 3, 0], X_scaled[y_kmeans == 3, 1], s=100, c='orange', label='Cluster 4')"
   ]
  },
  {
   "cell_type": "code",
   "execution_count": null,
   "id": "dec8b3d6",
   "metadata": {},
   "outputs": [],
   "source": [
    "# Plotting the centroids of the clusters\n",
    "plt.scatter(kmeans.cluster_centers_[:, 0], kmeans.cluster_centers_[:, 1], s=300, c='yellow', label='Centroids')\n",
    "plt.title('Clusters of apps')\n",
    "plt.xlabel('Feature 1 (scaled)')\n",
    "plt.ylabel('Feature 2 (scaled)')\n",
    "plt.legend()\n",
    "plt.show()"
   ]
  },
  {
   "cell_type": "code",
   "execution_count": null,
   "id": "81c55b6f-89e5-4f2b-88a2-f8a88c770848",
   "metadata": {},
   "outputs": [],
   "source": []
  }
 ],
 "metadata": {
  "kernelspec": {
   "display_name": "Python 3 (ipykernel)",
   "language": "python",
   "name": "python3"
  },
  "language_info": {
   "codemirror_mode": {
    "name": "ipython",
    "version": 3
   },
   "file_extension": ".py",
   "mimetype": "text/x-python",
   "name": "python",
   "nbconvert_exporter": "python",
   "pygments_lexer": "ipython3",
   "version": "3.10.12"
  }
 },
 "nbformat": 4,
 "nbformat_minor": 5
}
